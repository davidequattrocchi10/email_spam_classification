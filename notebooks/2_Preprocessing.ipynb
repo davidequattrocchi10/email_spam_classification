{
 "cells": [
  {
   "cell_type": "code",
   "execution_count": 1,
   "id": "a234937f-d85a-4b59-a36d-ca25784f301d",
   "metadata": {},
   "outputs": [],
   "source": [
    "import sys\n",
    "import os\n",
    "\n",
    "# Add the path src/preprocessing.py\n",
    "sys.path.append(os.path.abspath(os.path.join(os.getcwd(), '..')))"
   ]
  },
  {
   "cell_type": "code",
   "execution_count": 3,
   "id": "4fb58ce9-b10f-4747-922d-90d79d784a23",
   "metadata": {},
   "outputs": [
    {
     "name": "stdout",
     "output_type": "stream",
     "text": [
      "  label                                            message  message_length\n",
      "0   ham  Go until jurong point, crazy.. Available only ...             111\n",
      "1   ham                      Ok lar... Joking wif u oni...              29\n",
      "2  spam  Free entry in 2 a wkly comp to win FA Cup fina...             155\n",
      "3   ham  U dun say so early hor... U c already then say...              49\n",
      "4   ham  Nah I don't think he goes to usf, he lives aro...              61\n"
     ]
    }
   ],
   "source": [
    "import pandas as pd\n",
    "data = pd.read_csv(\"../data/processed/eda_output.csv\")\n",
    "print(data.head())"
   ]
  },
  {
   "cell_type": "code",
   "execution_count": 12,
   "id": "dd1ca516-d22f-459b-b68d-c84155695570",
   "metadata": {},
   "outputs": [
    {
     "name": "stdout",
     "output_type": "stream",
     "text": [
      "                                             message  \\\n",
      "0  Go until jurong point, crazy.. Available only ...   \n",
      "1                      Ok lar... Joking wif u oni...   \n",
      "2  Free entry in 2 a wkly comp to win FA Cup fina...   \n",
      "3  U dun say so early hor... U c already then say...   \n",
      "4  Nah I don't think he goes to usf, he lives aro...   \n",
      "\n",
      "                                     cleaned_message  \n",
      "0  go jurong point crazy available bugis n great ...  \n",
      "1                            ok lar joking wif u oni  \n",
      "2  free entry wkly comp win fa cup final tkts st ...  \n",
      "3                u dun say early hor u c already say  \n",
      "4           nah dont think go usf life around though  \n"
     ]
    }
   ],
   "source": [
    "from src.preprocessing import preprocess_text\n",
    "\n",
    "# Create a new column in the data with messages preprocessing \n",
    "data['cleaned_message'] = data['message'].apply(preprocess_text)\n",
    "\n",
    "print(data[['message', 'cleaned_message']].head(5))\n",
    "\n"
   ]
  },
  {
   "cell_type": "code",
   "execution_count": 13,
   "id": "972141cd-95f4-4480-907e-09a6b37f7b5b",
   "metadata": {},
   "outputs": [],
   "source": [
    "from sklearn.feature_extraction.text import TfidfVectorizer"
   ]
  },
  {
   "cell_type": "code",
   "execution_count": 42,
   "id": "073bc127-e57c-4bb0-b813-fefdc4cdc172",
   "metadata": {},
   "outputs": [
    {
     "name": "stdout",
     "output_type": "stream",
     "text": [
      "  (0, 927)\t0.29139783035410916\n",
      "  (0, 334)\t0.2395913846995883\n",
      "  (0, 428)\t0.41898667089873387\n",
      "  (0, 972)\t0.34731064288019076\n",
      "  (0, 338)\t0.2844542469263201\n",
      "  (0, 49)\t0.3886271165799766\n",
      "  (0, 168)\t0.3957882453544288\n",
      "  (0, 637)\t0.34896914617041114\n",
      "  (0, 325)\t0.22613205283344187\n"
     ]
    }
   ],
   "source": [
    "# Initialize the TF-IDF vectorizer\n",
    "tf_idf = TfidfVectorizer(max_features=1000)  # Limit to 1000 most frequent words\n",
    "\n",
    "# Transform the messages in the column cleaned_message in a numeric matrix (sparse matrix)  \n",
    "X = tf_idf.fit_transform(data['cleaned_message'])\n",
    "\n",
    "# sparse representation of line 0\n",
    "print(X[0:1])"
   ]
  },
  {
   "cell_type": "code",
   "execution_count": 62,
   "id": "c532e2c9-6b31-458a-952e-9a3fdadff210",
   "metadata": {},
   "outputs": [
    {
     "data": {
      "text/plain": [
       "array([927, 334, 428, 972, 338,  49, 168, 637, 325])"
      ]
     },
     "execution_count": 62,
     "metadata": {},
     "output_type": "execute_result"
    }
   ],
   "source": [
    "# words in first message transformed in numbers\n",
    "X[0].indices"
   ]
  },
  {
   "cell_type": "code",
   "execution_count": 64,
   "id": "fffb3410-ec05-46b5-9542-25967a25d72b",
   "metadata": {},
   "outputs": [
    {
     "data": {
      "text/plain": [
       "array([0.29139783, 0.23959138, 0.41898667, 0.34731064, 0.28445425,\n",
       "       0.38862712, 0.39578825, 0.34896915, 0.22613205])"
      ]
     },
     "execution_count": 64,
     "metadata": {},
     "output_type": "execute_result"
    }
   ],
   "source": [
    "# value for every word in the first message\n",
    "X[0].data"
   ]
  },
  {
   "cell_type": "code",
   "execution_count": 58,
   "id": "9497be93-1cef-443d-bcfb-5ca700605246",
   "metadata": {},
   "outputs": [
    {
     "name": "stdout",
     "output_type": "stream",
     "text": [
      "Word: wat,\t TF-IDF value: 0.29139783035410916\n",
      "Word: got,\t TF-IDF value: 0.2395913846995883\n",
      "Word: la,\t TF-IDF value: 0.41898667089873387\n",
      "Word: world,\t TF-IDF value: 0.34731064288019076\n",
      "Word: great,\t TF-IDF value: 0.2844542469263201\n",
      "Word: available,\t TF-IDF value: 0.3886271165799766\n",
      "Word: crazy,\t TF-IDF value: 0.3957882453544288\n",
      "Word: point,\t TF-IDF value: 0.34896914617041114\n",
      "Word: go,\t TF-IDF value: 0.22613205283344187\n"
     ]
    }
   ],
   "source": [
    "# All words that have been converted into numbers\n",
    "feature_names = tf_idf.get_feature_names_out()\n",
    "\n",
    "for index, value in zip(X[0].indices, X[0].data):\n",
    "    print(f\"Word: {feature_names[index]},\\t TF-IDF value: {value}\")"
   ]
  },
  {
   "cell_type": "code",
   "execution_count": 60,
   "id": "ea5a261f-ab32-4d5c-a74b-7c4b324a2e4b",
   "metadata": {},
   "outputs": [
    {
     "name": "stdout",
     "output_type": "stream",
     "text": [
      "The first ten words selected: ['abiola' 'able' 'abt' 'accept' 'access' 'account' 'across' 'actually'\n",
      " 'add' 'address']\n",
      "Matrix size: (5572, 1000)\n"
     ]
    }
   ],
   "source": [
    "print(\"The first ten words selected:\", feature_names[:10])\n",
    "print(\"Matrix size:\", X.shape)"
   ]
  },
  {
   "cell_type": "code",
   "execution_count": 72,
   "id": "e93381aa-fe56-4e08-b8b4-314b7f044050",
   "metadata": {},
   "outputs": [
    {
     "data": {
      "text/plain": [
       "0        ham\n",
       "1        ham\n",
       "2       spam\n",
       "3        ham\n",
       "4        ham\n",
       "        ... \n",
       "5567    spam\n",
       "5568     ham\n",
       "5569     ham\n",
       "5570     ham\n",
       "5571     ham\n",
       "Name: label, Length: 5572, dtype: object"
      ]
     },
     "execution_count": 72,
     "metadata": {},
     "output_type": "execute_result"
    }
   ],
   "source": [
    "y = data['label']\n",
    "y"
   ]
  },
  {
   "cell_type": "code",
   "execution_count": 74,
   "id": "b7b53406-0f95-46d7-a6a2-7f6733acbd35",
   "metadata": {},
   "outputs": [],
   "source": [
    "from scipy.sparse import save_npz\n",
    "\n",
    "save_npz(\"../data/processed/tfidf_matrix.npz\", X)\n",
    "\n",
    "y.to_csv(\"../data/processed/labels.csv\", index=False)"
   ]
  },
  {
   "cell_type": "code",
   "execution_count": null,
   "id": "db494657-73e2-47f1-918e-14bf1ef64172",
   "metadata": {},
   "outputs": [],
   "source": []
  }
 ],
 "metadata": {
  "kernelspec": {
   "display_name": "Python 3 (ipykernel)",
   "language": "python",
   "name": "python3"
  },
  "language_info": {
   "codemirror_mode": {
    "name": "ipython",
    "version": 3
   },
   "file_extension": ".py",
   "mimetype": "text/x-python",
   "name": "python",
   "nbconvert_exporter": "python",
   "pygments_lexer": "ipython3",
   "version": "3.12.4"
  }
 },
 "nbformat": 4,
 "nbformat_minor": 5
}
