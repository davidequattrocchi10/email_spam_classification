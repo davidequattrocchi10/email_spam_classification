{
 "cells": [
  {
   "cell_type": "code",
   "execution_count": 47,
   "id": "a234937f-d85a-4b59-a36d-ca25784f301d",
   "metadata": {},
   "outputs": [],
   "source": [
    "import sys\n",
    "import os\n",
    "\n",
    "# Add the path src/preprocessing.py\n",
    "sys.path.append(os.path.abspath(os.path.join(os.getcwd(), '..')))"
   ]
  },
  {
   "cell_type": "code",
   "execution_count": 49,
   "id": "4fb58ce9-b10f-4747-922d-90d79d784a23",
   "metadata": {},
   "outputs": [
    {
     "name": "stdout",
     "output_type": "stream",
     "text": [
      "  label                                            message  message_length\n",
      "0   ham  Go until jurong point, crazy.. Available only ...             111\n",
      "1   ham                      Ok lar... Joking wif u oni...              29\n",
      "2  spam  Free entry in 2 a wkly comp to win FA Cup fina...             155\n",
      "3   ham  U dun say so early hor... U c already then say...              49\n",
      "4   ham  Nah I don't think he goes to usf, he lives aro...              61\n"
     ]
    }
   ],
   "source": [
    "import pandas as pd\n",
    "data = pd.read_csv(\"../data/processed/eda_output.csv\")\n",
    "print(data.head())"
   ]
  },
  {
   "cell_type": "code",
   "execution_count": 55,
   "id": "dd1ca516-d22f-459b-b68d-c84155695570",
   "metadata": {},
   "outputs": [
    {
     "name": "stdout",
     "output_type": "stream",
     "text": [
      "                                             message  \\\n",
      "0  Go until jurong point, crazy.. Available only ...   \n",
      "1                      Ok lar... Joking wif u oni...   \n",
      "2  Free entry in 2 a wkly comp to win FA Cup fina...   \n",
      "3  U dun say so early hor... U c already then say...   \n",
      "4  Nah I don't think he goes to usf, he lives aro...   \n",
      "\n",
      "                                     cleaned_message  \n",
      "0  go jurong point crazy available bugis n great ...  \n",
      "1                            ok lar joking wif u oni  \n",
      "2  free entry wkly comp win fa cup final tkts st ...  \n",
      "3                u dun say early hor u c already say  \n",
      "4           nah dont think go usf life around though  \n"
     ]
    }
   ],
   "source": [
    "from src.preprocessing import preprocess_text\n",
    "\n",
    "# Create a new column in the data with messages preprocessing \n",
    "data['cleaned_message'] = data['message'].apply(preprocess_text)\n",
    "\n",
    "print(data[['message', 'cleaned_message']].head(5))\n",
    "\n"
   ]
  },
  {
   "cell_type": "code",
   "execution_count": null,
   "id": "314dfc4e-9162-45fc-a77b-0d95197dd965",
   "metadata": {},
   "outputs": [],
   "source": []
  }
 ],
 "metadata": {
  "kernelspec": {
   "display_name": "Python 3 (ipykernel)",
   "language": "python",
   "name": "python3"
  },
  "language_info": {
   "codemirror_mode": {
    "name": "ipython",
    "version": 3
   },
   "file_extension": ".py",
   "mimetype": "text/x-python",
   "name": "python",
   "nbconvert_exporter": "python",
   "pygments_lexer": "ipython3",
   "version": "3.12.4"
  }
 },
 "nbformat": 4,
 "nbformat_minor": 5
}
