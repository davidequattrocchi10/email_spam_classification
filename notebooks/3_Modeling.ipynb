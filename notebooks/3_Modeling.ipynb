{
 "cells": [
  {
   "cell_type": "code",
   "execution_count": 7,
   "id": "9aec2618-3ba6-495b-befb-71972d4c2cfb",
   "metadata": {},
   "outputs": [
    {
     "name": "stdout",
     "output_type": "stream",
     "text": [
      "Show the first two rows of X: \n",
      "  (0, 927)\t0.29139783035410916\n",
      "  (0, 334)\t0.2395913846995883\n",
      "  (0, 428)\t0.41898667089873387\n",
      "  (0, 972)\t0.34731064288019076\n",
      "  (0, 338)\t0.2844542469263201\n",
      "  (0, 49)\t0.3886271165799766\n",
      "  (0, 168)\t0.3957882453544288\n",
      "  (0, 637)\t0.34896914617041114\n",
      "  (0, 325)\t0.22613205283344187\n",
      "  (1, 948)\t0.6596320170674406\n",
      "  (1, 433)\t0.6240184231409794\n",
      "  (1, 579)\t0.4189112192818252\n",
      "Show the first five labels: \n",
      " 0     ham\n",
      "1     ham\n",
      "2    spam\n",
      "3     ham\n",
      "4     ham\n",
      "Name: label, dtype: object\n"
     ]
    }
   ],
   "source": [
    "from scipy.sparse import load_npz\n",
    "import pandas as pd\n",
    "\n",
    "X = load_npz(\"../data/processed/tfidf_matrix.npz\")\n",
    "y = pd.read_csv(\"../data/processed/labels.csv\")['label']\n",
    "\n",
    "# X is a sparse matrix\n",
    "print(f\"Show the first two rows of X: \\n{X[0:2]}\")\n",
    "print(f\"Show the first five labels: \\n {y.head()}\")"
   ]
  },
  {
   "cell_type": "code",
   "execution_count": 8,
   "id": "0a4ad198-e1c6-4a71-8dff-89dbe8501cbb",
   "metadata": {},
   "outputs": [
    {
     "name": "stdout",
     "output_type": "stream",
     "text": [
      "(4457, 1000)\n",
      "(1115, 1000)\n"
     ]
    }
   ],
   "source": [
    "from sklearn.model_selection import train_test_split\n",
    "\n",
    "# Use train_test_split to divide the dataset\n",
    "X_train, X_test, y_train, y_test = train_test_split(X, y, test_size=0.2, random_state=42)\n",
    "print(X_train.shape)\n",
    "print(X_test.shape)"
   ]
  },
  {
   "cell_type": "code",
   "execution_count": 9,
   "id": "45a04b77-440c-44ee-92d1-0b92e46c0e87",
   "metadata": {},
   "outputs": [
    {
     "name": "stdout",
     "output_type": "stream",
     "text": [
      "Naive Bayes \n",
      "Accuracy:  0.979372197309417\n",
      "Classification report: \n",
      "               precision    recall  f1-score   support\n",
      "\n",
      "         ham       0.98      1.00      0.99       966\n",
      "        spam       0.98      0.86      0.92       149\n",
      "\n",
      "    accuracy                           0.98      1115\n",
      "   macro avg       0.98      0.93      0.95      1115\n",
      "weighted avg       0.98      0.98      0.98      1115\n",
      "\n",
      "Confusion matrix: \n",
      " [[964   2]\n",
      " [ 21 128]]\n"
     ]
    }
   ],
   "source": [
    "from sklearn.naive_bayes import MultinomialNB\n",
    "from sklearn.metrics import classification_report, confusion_matrix, accuracy_score\n",
    "\n",
    "# Use Multinomial Naive Bayes - the best for words frequencies in a text\n",
    "nb_model = MultinomialNB()\n",
    "\n",
    "nb_model.fit(X_train, y_train)\n",
    "\n",
    "y_pred_nb = nb_model.predict(X_test)\n",
    "\n",
    "print(\"Naive Bayes \\nAccuracy: \", accuracy_score(y_test, y_pred_nb))\n",
    "print(\"Classification report: \\n\", classification_report(y_test, y_pred_nb))\n",
    "print(\"Confusion matrix: \\n\", confusion_matrix(y_test, y_pred_nb))"
   ]
  },
  {
   "cell_type": "code",
   "execution_count": 11,
   "id": "882dd086-7691-4678-b4d6-c50bf5da5a93",
   "metadata": {},
   "outputs": [
    {
     "name": "stdout",
     "output_type": "stream",
     "text": [
      "Logistic Regression \n",
      "Accuracy:  0.9659192825112107\n",
      "Classification report: \n",
      "               precision    recall  f1-score   support\n",
      "\n",
      "         ham       0.96      1.00      0.98       966\n",
      "        spam       0.98      0.76      0.86       149\n",
      "\n",
      "    accuracy                           0.97      1115\n",
      "   macro avg       0.97      0.88      0.92      1115\n",
      "weighted avg       0.97      0.97      0.96      1115\n",
      "\n",
      "Confusion matrix: \n",
      " [[964   2]\n",
      " [ 36 113]]\n"
     ]
    }
   ],
   "source": [
    "from sklearn.linear_model import LogisticRegression\n",
    "\n",
    "# Use Logistic Regression\n",
    "lr_model = LogisticRegression(random_state=42, max_iter=500)\n",
    "\n",
    "lr_model.fit(X_train, y_train)\n",
    "\n",
    "y_pred_lr = lr_model.predict(X_test)\n",
    "\n",
    "print(\"Logistic Regression \\nAccuracy: \", accuracy_score(y_test, y_pred_lr))\n",
    "print(\"Classification report: \\n\", classification_report(y_test, y_pred_lr))\n",
    "print(\"Confusion matrix: \\n\", confusion_matrix(y_test, y_pred_lr))\n"
   ]
  },
  {
   "cell_type": "code",
   "execution_count": 12,
   "id": "a9cea9c8-46b1-40a0-8d5a-423fb0de2600",
   "metadata": {},
   "outputs": [
    {
     "name": "stdout",
     "output_type": "stream",
     "text": [
      "Best Parameters: {'C': 10, 'solver': 'lbfgs'}\n"
     ]
    }
   ],
   "source": [
    "from sklearn.model_selection import GridSearchCV\n",
    "\n",
    "# Use GridSearchCV to find the best parameters\n",
    "param_grid = {'C': [0.01, 0.1, 1, 10], 'solver': ['liblinear', 'lbfgs']}\n",
    "# cv=5 --> cross validation\n",
    "grid_search = GridSearchCV(LogisticRegression(random_state=42), param_grid, cv=5, scoring='accuracy')\n",
    "grid_search.fit(X_train, y_train)\n",
    "\n",
    "print(\"Best Parameters:\", grid_search.best_params_)\n"
   ]
  },
  {
   "cell_type": "code",
   "execution_count": 13,
   "id": "ff505dd7-d2d0-4eff-a95b-a2e7c7e846fc",
   "metadata": {},
   "outputs": [
    {
     "name": "stdout",
     "output_type": "stream",
     "text": [
      "Logistic Regression \n",
      "Accuracy:  0.9838565022421525\n",
      "Classification report: \n",
      "               precision    recall  f1-score   support\n",
      "\n",
      "         ham       0.98      1.00      0.99       966\n",
      "        spam       0.99      0.89      0.94       149\n",
      "\n",
      "    accuracy                           0.98      1115\n",
      "   macro avg       0.98      0.95      0.96      1115\n",
      "weighted avg       0.98      0.98      0.98      1115\n",
      "\n",
      "Confusion matrix: \n",
      " [[964   2]\n",
      " [ 16 133]]\n"
     ]
    }
   ],
   "source": [
    "# Use the best parameters to predict the values\n",
    "y_pred_gs = grid_search.predict(X_test)\n",
    "\n",
    "print(\"Logistic Regression \\nAccuracy: \", accuracy_score(y_test, y_pred_gs))\n",
    "print(\"Classification report: \\n\", classification_report(y_test, y_pred_gs))\n",
    "print(\"Confusion matrix: \\n\", confusion_matrix(y_test, y_pred_gs))"
   ]
  },
  {
   "cell_type": "code",
   "execution_count": 14,
   "id": "ae8a2792-cfd0-42dc-8fa4-7d7f221f9ac3",
   "metadata": {},
   "outputs": [
    {
     "name": "stdout",
     "output_type": "stream",
     "text": [
      "MultinomialNB: 0.979372197309417\n",
      "Logistic Regression: 0.9659192825112107\n",
      "Logistic Regression (Optimized): 0.9838565022421525\n"
     ]
    }
   ],
   "source": [
    "# Compare Models\n",
    "models = ['MultinomialNB', 'Logistic Regression', 'Logistic Regression (Optimized)']\n",
    "accuracies = [accuracy_score(y_test, y_pred_nb), accuracy_score(y_test, y_pred_lr), accuracy_score(y_test, y_pred_gs)]\n",
    "\n",
    "for model, acc in zip(models, accuracies):\n",
    "    print(f\"{model}: {acc}\")\n"
   ]
  },
  {
   "cell_type": "code",
   "execution_count": 15,
   "id": "9bb6be8f-95c1-4e64-bcf2-5451d03fe813",
   "metadata": {},
   "outputs": [
    {
     "name": "stdout",
     "output_type": "stream",
     "text": [
      "Saved model into: ../models/best_model.pkl\n"
     ]
    }
   ],
   "source": [
    "# joblib --> library to save machine learning models\n",
    "import joblib\n",
    "\n",
    "joblib.dump(grid_search.best_estimator_, \"../models/best_model.pkl\")\n",
    "\n",
    "print(\"Saved model into: ../models/best_model.pkl\")"
   ]
  },
  {
   "cell_type": "code",
   "execution_count": null,
   "id": "684becd2-a267-4710-a0d4-6221a153024a",
   "metadata": {},
   "outputs": [],
   "source": []
  }
 ],
 "metadata": {
  "kernelspec": {
   "display_name": "Python 3 (ipykernel)",
   "language": "python",
   "name": "python3"
  },
  "language_info": {
   "codemirror_mode": {
    "name": "ipython",
    "version": 3
   },
   "file_extension": ".py",
   "mimetype": "text/x-python",
   "name": "python",
   "nbconvert_exporter": "python",
   "pygments_lexer": "ipython3",
   "version": "3.12.4"
  }
 },
 "nbformat": 4,
 "nbformat_minor": 5
}
